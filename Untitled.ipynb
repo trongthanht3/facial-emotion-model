{
 "cells": [
  {
   "cell_type": "code",
   "execution_count": 1,
   "metadata": {},
   "outputs": [
    {
     "name": "stdout",
     "output_type": "stream",
     "text": [
      "Mon Sep 28 17:23:53 2020       \n",
      "+-----------------------------------------------------------------------------+\n",
      "| NVIDIA-SMI 451.82       Driver Version: 451.82       CUDA Version: 11.0     |\n",
      "|-------------------------------+----------------------+----------------------+\n",
      "| GPU  Name            TCC/WDDM | Bus-Id        Disp.A | Volatile Uncorr. ECC |\n",
      "| Fan  Temp  Perf  Pwr:Usage/Cap|         Memory-Usage | GPU-Util  Compute M. |\n",
      "|===============================+======================+======================|\n",
      "|   0  GeForce GTX 1050   WDDM  | 00000000:01:00.0 Off |                  N/A |\n",
      "| N/A   45C    P8    N/A /  N/A |     75MiB /  4096MiB |      1%      Default |\n",
      "+-------------------------------+----------------------+----------------------+\n",
      "                                                                               \n",
      "+-----------------------------------------------------------------------------+\n",
      "| Processes:                                                                  |\n",
      "|  GPU   GI   CI        PID   Type   Process name                  GPU Memory |\n",
      "|        ID   ID                                                   Usage      |\n",
      "|=============================================================================|\n",
      "|  No running processes found                                                 |\n",
      "+-----------------------------------------------------------------------------+\n"
     ]
    }
   ],
   "source": [
    "!nvidia-smi"
   ]
  },
  {
   "cell_type": "code",
   "execution_count": 3,
   "metadata": {},
   "outputs": [
    {
     "name": "stdout",
     "output_type": "stream",
     "text": [
      "Collecting mxnet-model-server\n",
      "  Downloading mxnet_model_server-1.0.8-py2.py3-none-any.whl (4.5 MB)\n",
      "Requirement already satisfied: future in c:\\users\\thanh\\anaconda3\\lib\\site-packages (from mxnet-model-server) (0.18.2)\n",
      "Requirement already satisfied: Pillow in c:\\users\\thanh\\anaconda3\\lib\\site-packages (from mxnet-model-server) (7.2.0)\n",
      "Requirement already satisfied: psutil in c:\\users\\thanh\\anaconda3\\lib\\site-packages (from mxnet-model-server) (5.7.2)\n",
      "Collecting model-archiver\n",
      "  Using cached model_archiver-1.0.3-py2.py3-none-any.whl (20 kB)\n",
      "Collecting enum-compat\n",
      "  Using cached enum_compat-0.0.3-py3-none-any.whl (1.3 kB)\n",
      "Installing collected packages: enum-compat, model-archiver, mxnet-model-server\n",
      "Successfully installed enum-compat-0.0.3 model-archiver-1.0.3 mxnet-model-server-1.0.8\n",
      "Requirement already satisfied: model-archiver in c:\\users\\thanh\\anaconda3\\lib\\site-packages (1.0.3)\n",
      "Requirement already satisfied: future in c:\\users\\thanh\\anaconda3\\lib\\site-packages (from model-archiver) (0.18.2)\n",
      "Requirement already satisfied: enum-compat in c:\\users\\thanh\\anaconda3\\lib\\site-packages (from model-archiver) (0.0.3)\n",
      "Collecting scikit-image\n",
      "  Downloading scikit_image-0.17.2-cp38-cp38-win_amd64.whl (11.7 MB)\n",
      "Requirement already satisfied: matplotlib!=3.0.0,>=2.0.0 in c:\\users\\thanh\\anaconda3\\lib\\site-packages (from scikit-image) (3.3.1)\n",
      "Collecting imageio>=2.3.0\n",
      "  Downloading imageio-2.9.0-py3-none-any.whl (3.3 MB)\n",
      "Requirement already satisfied: scipy>=1.0.1 in c:\\users\\thanh\\anaconda3\\lib\\site-packages (from scikit-image) (1.4.1)\n",
      "Collecting networkx>=2.0\n",
      "  Downloading networkx-2.5-py3-none-any.whl (1.6 MB)\n",
      "Requirement already satisfied: pillow!=7.1.0,!=7.1.1,>=4.3.0 in c:\\users\\thanh\\anaconda3\\lib\\site-packages (from scikit-image) (7.2.0)\n",
      "Collecting tifffile>=2019.7.26\n",
      "  Downloading tifffile-2020.9.22-py3-none-any.whl (153 kB)\n",
      "Requirement already satisfied: numpy>=1.15.1 in c:\\users\\thanh\\anaconda3\\lib\\site-packages (from scikit-image) (1.18.1)\n",
      "Collecting PyWavelets>=1.1.1\n",
      "  Downloading PyWavelets-1.1.1-cp38-cp38-win_amd64.whl (4.3 MB)\n",
      "Requirement already satisfied: cycler>=0.10 in c:\\users\\thanh\\anaconda3\\lib\\site-packages (from matplotlib!=3.0.0,>=2.0.0->scikit-image) (0.10.0)\n",
      "Requirement already satisfied: pyparsing!=2.0.4,!=2.1.2,!=2.1.6,>=2.0.3 in c:\\users\\thanh\\anaconda3\\lib\\site-packages (from matplotlib!=3.0.0,>=2.0.0->scikit-image) (2.4.7)\n",
      "Requirement already satisfied: certifi>=2020.06.20 in c:\\users\\thanh\\anaconda3\\lib\\site-packages (from matplotlib!=3.0.0,>=2.0.0->scikit-image) (2020.6.20)\n",
      "Requirement already satisfied: kiwisolver>=1.0.1 in c:\\users\\thanh\\anaconda3\\lib\\site-packages (from matplotlib!=3.0.0,>=2.0.0->scikit-image) (1.2.0)\n",
      "Requirement already satisfied: python-dateutil>=2.1 in c:\\users\\thanh\\anaconda3\\lib\\site-packages (from matplotlib!=3.0.0,>=2.0.0->scikit-image) (2.8.1)\n",
      "Requirement already satisfied: decorator>=4.3.0 in c:\\users\\thanh\\anaconda3\\lib\\site-packages (from networkx>=2.0->scikit-image) (4.4.2)\n",
      "Requirement already satisfied: six in c:\\users\\thanh\\anaconda3\\lib\\site-packages (from cycler>=0.10->matplotlib!=3.0.0,>=2.0.0->scikit-image) (1.15.0)\n",
      "Installing collected packages: imageio, networkx, tifffile, PyWavelets, scikit-image\n",
      "Successfully installed PyWavelets-1.1.1 imageio-2.9.0 networkx-2.5 scikit-image-0.17.2 tifffile-2020.9.22\n",
      "Collecting opencv-python\n",
      "  Downloading opencv_python-4.4.0.44-cp38-cp38-win_amd64.whl (33.5 MB)\n",
      "Requirement already satisfied: numpy>=1.17.3 in c:\\users\\thanh\\anaconda3\\lib\\site-packages (from opencv-python) (1.18.1)\n",
      "Installing collected packages: opencv-python\n",
      "Successfully installed opencv-python-4.4.0.44\n"
     ]
    }
   ],
   "source": [
    "!pip install mxnet-model-server\n",
    "!pip install model-archiver\n",
    "!pip install scikit-image\n",
    "!pip install opencv-python"
   ]
  },
  {
   "cell_type": "code",
   "execution_count": 74,
   "metadata": {},
   "outputs": [],
   "source": [
    "!mkdir fer2"
   ]
  },
  {
   "cell_type": "code",
   "execution_count": 78,
   "metadata": {},
   "outputs": [
    {
     "name": "stderr",
     "output_type": "stream",
     "text": [
      "  % Total    % Received % Xferd  Average Speed   Time    Time     Time  Current\n",
      "                                 Dload  Upload   Total   Spent    Left  Speed\n",
      "\n",
      "  0     0    0     0    0     0      0      0 --:--:-- --:--:-- --:--:--     0curl: (6) Could not resolve host: s3.amazonaws.com\n",
      "  % Total    % Received % Xferd  Average Speed   Time    Time     Time  Current\n",
      "                                 Dload  Upload   Total   Spent    Left  Speed\n",
      "\n",
      "  0     0    0     0    0     0      0      0 --:--:-- --:--:-- --:--:--     0curl: (6) Could not resolve host: s3.amazonaws.com\n"
     ]
    }
   ],
   "source": [
    "!curl -O https://s3.amazonaws.com/mxnet-demo-models/models/fer/fer-0000.params\n",
    "!curl -O https://s3.amazonaws.com/mxnet-demo-models/models/fer/fer-symbol.json"
   ]
  },
  {
   "cell_type": "code",
   "execution_count": 79,
   "metadata": {},
   "outputs": [
    {
     "name": "stdout",
     "output_type": "stream",
     "text": [
      "C:\\Users\\Thanh\\Documents\\NoteWork\\Facial-emotion\n"
     ]
    }
   ],
   "source": [
    "%cd ..\n"
   ]
  },
  {
   "cell_type": "code",
   "execution_count": 2,
   "metadata": {},
   "outputs": [],
   "source": [
    "!mxnet-model-server --models fer=fer.mar --model-store ."
   ]
  },
  {
   "cell_type": "code",
   "execution_count": 81,
   "metadata": {},
   "outputs": [
    {
     "name": "stdout",
     "output_type": "stream",
     "text": [
      "2020-09-24 15:30:35,042 [INFO ] main com.amazonaws.ml.mms.ModelServer - \n",
      "MMS Home: C:\\Users\\Thanh\\anaconda3\\Lib\\site-packages\n",
      "Current directory: C:\\Users\\Thanh\\Documents\\NoteWork\\Facial-emotion\n",
      "Temp directory: C:\\Users\\Thanh\\AppData\\Local\\Temp\n",
      "Number of GPUs: 1\n",
      "Number of CPUs: 12\n",
      "Max heap size: 3607 M\n",
      "Python executable: c:\\users\\thanh\\anaconda3\\python.exe\n",
      "Config file: N/A\n",
      "Inference address: http://127.0.0.1:8080\n",
      "Management address: http://127.0.0.1:8081\n",
      "Model Store: C:\\Users\\Thanh\\Documents\\NoteWork\\Facial-emotion\\fer\n",
      "Initial Models: fer=fer.mar\n",
      "Log dir: C:\\Users\\Thanh\\Documents\\NoteWork\\Facial-emotion\\logs\n",
      "Metrics dir: C:\\Users\\Thanh\\Documents\\NoteWork\\Facial-emotion\\logs\n",
      "Netty threads: 0\n",
      "Netty client threads: 0\n",
      "Default workers per model: 1\n",
      "Blacklist Regex: N/A\n",
      "Maximum Response Size: 6553500\n",
      "Maximum Request Size: 6553500\n",
      "2020-09-24 15:30:35,046 [INFO ] main com.amazonaws.ml.mms.ModelServer - Loading initial models: fer.mar\n",
      "2020-09-24 15:30:35,093 [WARN ] main com.amazonaws.ml.mms.ModelServer - Failed to load model: fer.mar\n",
      "com.amazonaws.ml.mms.archive.ModelNotFoundException: Model not found in model store: fer.mar\n",
      "\tat com.amazonaws.ml.mms.archive.ModelArchive.downloadModel(ModelArchive.java:86)\n",
      "\tat com.amazonaws.ml.mms.wlm.ModelManager.registerModel(ModelManager.java:94)\n",
      "\tat com.amazonaws.ml.mms.ModelServer.initModelStore(ModelServer.java:196)\n",
      "\tat com.amazonaws.ml.mms.ModelServer.start(ModelServer.java:285)\n",
      "\tat com.amazonaws.ml.mms.ModelServer.startAndWait(ModelServer.java:100)\n",
      "\tat com.amazonaws.ml.mms.ModelServer.main(ModelServer.java:83)\n",
      "2020-09-24 15:30:35,097 [INFO ] main com.amazonaws.ml.mms.ModelServer - Initialize Inference server with: NioServerSocketChannel.\n",
      "2020-09-24 15:30:36,070 [INFO ] main com.amazonaws.ml.mms.ModelServer - Inference API bind to: http://127.0.0.1:8080\n",
      "2020-09-24 15:30:36,070 [INFO ] main com.amazonaws.ml.mms.ModelServer - Initialize Management server with: NioServerSocketChannel.\n",
      "2020-09-24 15:30:36,071 [INFO ] main com.amazonaws.ml.mms.ModelServer - Management API bind to: http://127.0.0.1:8081\n",
      "Model server started.\n",
      "2020-09-24 15:30:36,227 [INFO ] pool-2-thread-1 MMS_METRICS - CPUUtilization.Percent:0.0|#Level:Host|#hostname:Dorayakiiiiiii,timestamp:1600936236\n",
      "2020-09-24 15:30:36,227 [INFO ] pool-2-thread-1 MMS_METRICS - DiskAvailable.Gigabytes:30.047557830810547|#Level:Host|#hostname:Dorayakiiiiiii,timestamp:1600936236\n",
      "2020-09-24 15:30:36,227 [INFO ] pool-2-thread-1 MMS_METRICS - DiskUsage.Gigabytes:135.3381805419922|#Level:Host|#hostname:Dorayakiiiiiii,timestamp:1600936236\n",
      "2020-09-24 15:30:36,227 [INFO ] pool-2-thread-1 MMS_METRICS - DiskUtilization.Percent:81.8|#Level:Host|#hostname:Dorayakiiiiiii,timestamp:1600936236\n",
      "2020-09-24 15:30:36,227 [INFO ] pool-2-thread-1 MMS_METRICS - MemoryAvailable.Megabytes:8761.3125|#Level:Host|#hostname:Dorayakiiiiiii,timestamp:1600936236\n",
      "2020-09-24 15:30:36,228 [INFO ] pool-2-thread-1 MMS_METRICS - MemoryUsed.Megabytes:7469.3046875|#Level:Host|#hostname:Dorayakiiiiiii,timestamp:1600936236\n",
      "2020-09-24 15:30:36,228 [INFO ] pool-2-thread-1 MMS_METRICS - MemoryUtilization.Percent:46.0|#Level:Host|#hostname:Dorayakiiiiiii,timestamp:1600936236\n",
      "2020-09-24 15:30:38,590 [INFO ] pool-1-thread-1 ACCESS_LOG - /127.0.0.1:51828 \"GET /ping HTTP/1.1\" 200 12\n",
      "2020-09-24 15:30:38,590 [INFO ] pool-1-thread-1 MMS_METRICS - Requests2XX.Count:1|#Level:Host|#hostname:Dorayakiiiiiii,timestamp:null\n",
      "2020-09-24 15:30:43,017 [INFO ] nioEventLoopGroup-3-2 ACCESS_LOG - /127.0.0.1:51836 \"GET /models HTTP/1.1\" 200 2\n",
      "2020-09-24 15:30:43,017 [INFO ] nioEventLoopGroup-3-2 MMS_METRICS - Requests2XX.Count:1|#Level:Host|#hostname:Dorayakiiiiiii,timestamp:null\n",
      "2020-09-24 15:31:36,229 [INFO ] pool-2-thread-1 MMS_METRICS - CPUUtilization.Percent:0.0|#Level:Host|#hostname:Dorayakiiiiiii,timestamp:1600936296\n",
      "2020-09-24 15:31:36,229 [INFO ] pool-2-thread-1 MMS_METRICS - DiskAvailable.Gigabytes:30.050498962402344|#Level:Host|#hostname:Dorayakiiiiiii,timestamp:1600936296\n",
      "2020-09-24 15:31:36,230 [INFO ] pool-2-thread-1 MMS_METRICS - DiskUsage.Gigabytes:135.3352394104004|#Level:Host|#hostname:Dorayakiiiiiii,timestamp:1600936296\n",
      "2020-09-24 15:31:36,230 [INFO ] pool-2-thread-1 MMS_METRICS - DiskUtilization.Percent:81.8|#Level:Host|#hostname:Dorayakiiiiiii,timestamp:1600936296\n",
      "2020-09-24 15:31:36,230 [INFO ] pool-2-thread-1 MMS_METRICS - MemoryAvailable.Megabytes:8762.33984375|#Level:Host|#hostname:Dorayakiiiiiii,timestamp:1600936296\n",
      "2020-09-24 15:31:36,230 [INFO ] pool-2-thread-1 MMS_METRICS - MemoryUsed.Megabytes:7468.27734375|#Level:Host|#hostname:Dorayakiiiiiii,timestamp:1600936296\n",
      "2020-09-24 15:31:36,230 [INFO ] pool-2-thread-1 MMS_METRICS - MemoryUtilization.Percent:46.0|#Level:Host|#hostname:Dorayakiiiiiii,timestamp:1600936296\n",
      "2020-09-24 15:32:36,225 [INFO ] pool-2-thread-1 MMS_METRICS - CPUUtilization.Percent:0.0|#Level:Host|#hostname:Dorayakiiiiiii,timestamp:1600936356\n",
      "2020-09-24 15:32:36,225 [INFO ] pool-2-thread-1 MMS_METRICS - DiskAvailable.Gigabytes:30.049861907958984|#Level:Host|#hostname:Dorayakiiiiiii,timestamp:1600936356\n",
      "2020-09-24 15:32:36,225 [INFO ] pool-2-thread-1 MMS_METRICS - DiskUsage.Gigabytes:135.33587646484375|#Level:Host|#hostname:Dorayakiiiiiii,timestamp:1600936356\n",
      "2020-09-24 15:32:36,225 [INFO ] pool-2-thread-1 MMS_METRICS - DiskUtilization.Percent:81.8|#Level:Host|#hostname:Dorayakiiiiiii,timestamp:1600936356\n",
      "2020-09-24 15:32:36,226 [INFO ] pool-2-thread-1 MMS_METRICS - MemoryAvailable.Megabytes:8756.14453125|#Level:Host|#hostname:Dorayakiiiiiii,timestamp:1600936356\n",
      "2020-09-24 15:32:36,226 [INFO ] pool-2-thread-1 MMS_METRICS - MemoryUsed.Megabytes:7474.47265625|#Level:Host|#hostname:Dorayakiiiiiii,timestamp:1600936356\n",
      "2020-09-24 15:32:36,226 [INFO ] pool-2-thread-1 MMS_METRICS - MemoryUtilization.Percent:46.1|#Level:Host|#hostname:Dorayakiiiiiii,timestamp:1600936356\n",
      "Model server stopped.\n"
     ]
    }
   ],
   "source": [
    "!mxnet-model-server --stop"
   ]
  },
  {
   "cell_type": "code",
   "execution_count": 56,
   "metadata": {},
   "outputs": [],
   "source": [
    "# % cd ..\n",
    "# !ls -l fer.mar"
   ]
  },
  {
   "cell_type": "code",
   "execution_count": 3,
   "metadata": {},
   "outputs": [
    {
     "name": "stdout",
     "output_type": "stream",
     "text": [
      "{\n",
      "  \"status\": \"Unhealthy\"\n",
      "}\n"
     ]
    },
    {
     "name": "stderr",
     "output_type": "stream",
     "text": [
      "  % Total    % Received % Xferd  Average Speed   Time    Time     Time  Current\n",
      "                                 Dload  Upload   Total   Spent    Left  Speed\n",
      "\n",
      "  0     0    0     0    0     0      0      0 --:--:-- --:--:-- --:--:--     0\n",
      "100    28  100    28    0     0     28      0  0:00:01 --:--:--  0:00:01   595\n"
     ]
    }
   ],
   "source": [
    "!curl http://127.0.0.1:8080/ping"
   ]
  },
  {
   "cell_type": "code",
   "execution_count": 4,
   "metadata": {},
   "outputs": [
    {
     "name": "stdout",
     "output_type": "stream",
     "text": [
      "{"
     ]
    },
    {
     "name": "stderr",
     "output_type": "stream",
     "text": [
      "  % Total    % Received % Xferd  Average Speed   Time    Time     Time  Current\n",
      "                                 Dload  Upload   Total   Spent    Left  Speed\n",
      "\n",
      "  0     0    0     0    0     0      0      0 --:--:-- --:--:-- --:--:--     0\n",
      "  0     0    0     0    0     0      0      0 --:--:-- --:--:-- --:--:--     0\n",
      "100    88  100    88    0     0     88      0  0:00:01 --:--:--  0:00:01   401\n"
     ]
    },
    {
     "name": "stdout",
     "output_type": "stream",
     "text": [
      "\n",
      "  \"models\": [\n",
      "    {\n",
      "      \"modelName\": \"fer\",\n",
      "      \"modelUrl\": \"fer.mar\"\n",
      "    }\n",
      "  ]\n",
      "}\n"
     ]
    }
   ],
   "source": [
    "!curl http://localhost:8081/models"
   ]
  },
  {
   "cell_type": "code",
   "execution_count": 5,
   "metadata": {},
   "outputs": [
    {
     "name": "stdout",
     "output_type": "stream",
     "text": [
      "{\n",
      "  \"modelName\": \"fer\",\n",
      "  \"modelUrl\": \"fer.mar\",\n",
      "  \"runtime\": \"python\",\n",
      "  \"minWorkers\": 1,\n",
      "  \"maxWorkers\": 1,\n",
      "  \"batchSize\": 1,\n",
      "  \"maxBatchDelay\": 100,\n",
      "  \"loadedAtStartup\": true,\n",
      "  \"workers\": [\n",
      "    {\n",
      "      \"id\": \"9000\",\n",
      "      \"startTime\": \"2020-09-28T17:24:08.312Z\",\n",
      "      \"status\": \"READY\",\n",
      "      \"gpu\": true,\n",
      "      \"memoryUsage\": 0\n",
      "    }\n",
      "  ]\n",
      "}\n"
     ]
    },
    {
     "name": "stderr",
     "output_type": "stream",
     "text": [
      "  % Total    % Received % Xferd  Average Speed   Time    Time     Time  Current\n",
      "                                 Dload  Upload   Total   Spent    Left  Speed\n",
      "\n",
      "  0     0    0     0    0     0      0      0 --:--:-- --:--:-- --:--:--     0\n",
      "100   346  100   346    0     0    346      0  0:00:01 --:--:--  0:00:01  1579\n"
     ]
    }
   ],
   "source": [
    "!curl http://localhost:8081/models/fer"
   ]
  },
  {
   "cell_type": "code",
   "execution_count": null,
   "metadata": {},
   "outputs": [],
   "source": [
    "!curl --verbose -X POST http://127.0.0.1:8080/fer/predict -T \"dataSample/smile.jpg\""
   ]
  },
  {
   "cell_type": "code",
   "execution_count": 37,
   "metadata": {},
   "outputs": [
    {
     "name": "stdout",
     "output_type": "stream",
     "text": [
      "Usage: curl [options...] <url>\n",
      "     --abstract-unix-socket <path> Connect via abstract Unix domain socket\n",
      "     --anyauth       Pick any authentication method\n",
      " -a, --append        Append to target file when uploading\n",
      "     --basic         Use HTTP Basic Authentication\n",
      "     --cacert <CA certificate> CA certificate to verify peer against\n",
      "     --capath <dir>  CA directory to verify peer against\n",
      " -E, --cert <certificate[:password]> Client certificate file and password\n",
      "     --cert-status   Verify the status of the server certificate\n",
      "     --cert-type <type> Certificate file type (DER/PEM/ENG)\n",
      "     --ciphers <list of ciphers> SSL ciphers to use\n",
      "     --compressed    Request compressed response\n",
      " -K, --config <file> Read config from a file\n",
      "     --connect-timeout <seconds> Maximum time allowed for connection\n",
      "     --connect-to <HOST1:PORT1:HOST2:PORT2> Connect to host\n",
      " -C, --continue-at <offset> Resumed transfer offset\n",
      " -b, --cookie <data> Send cookies from string/file\n",
      " -c, --cookie-jar <filename> Write cookies to <filename> after operation\n",
      "     --create-dirs   Create necessary local directory hierarchy\n",
      "     --crlf          Convert LF to CRLF in upload\n",
      "     --crlfile <file> Get a CRL list in PEM format from the given file\n",
      " -d, --data <data>   HTTP POST data\n",
      "     --data-ascii <data> HTTP POST ASCII data\n",
      "     --data-binary <data> HTTP POST binary data\n",
      "     --data-raw <data> HTTP POST data, '@' allowed\n",
      "     --data-urlencode <data> HTTP POST data url encoded\n",
      "     --delegation <LEVEL> GSS-API delegation permission\n",
      "     --digest        Use HTTP Digest Authentication\n",
      " -q, --disable       Disable .curlrc\n",
      "     --disable-eprt  Inhibit using EPRT or LPRT\n",
      "     --disable-epsv  Inhibit using EPSV\n",
      "     --dns-interface <interface> Interface to use for DNS requests\n",
      "     --dns-ipv4-addr <address> IPv4 address to use for DNS requests\n",
      "     --dns-ipv6-addr <address> IPv6 address to use for DNS requests\n",
      "     --dns-servers <addresses> DNS server addrs to use\n",
      " -D, --dump-header <filename> Write the received headers to <filename>\n",
      "     --egd-file <file> EGD socket path for random data\n",
      "     --engine <name> Crypto engine to use\n",
      "     --expect100-timeout <seconds> How long to wait for 100-continue\n",
      " -f, --fail          Fail silently (no output at all) on HTTP errors\n",
      "     --fail-early    Fail on first transfer error, do not continue\n",
      "     --false-start   Enable TLS False Start\n",
      " -F, --form <name=content> Specify HTTP multipart POST data\n",
      "     --form-string <name=string> Specify HTTP multipart POST data\n",
      "     --ftp-account <data> Account data string\n",
      "     --ftp-alternative-to-user <command> String to replace USER [name]\n",
      "     --ftp-create-dirs Create the remote dirs if not present\n",
      "     --ftp-method <method> Control CWD usage\n",
      "     --ftp-pasv      Use PASV/EPSV instead of PORT\n",
      " -P, --ftp-port <address> Use PORT instead of PASV\n",
      "     --ftp-pret      Send PRET before PASV\n",
      "     --ftp-skip-pasv-ip Skip the IP address for PASV\n",
      "     --ftp-ssl-ccc   Send CCC after authenticating\n",
      "     --ftp-ssl-ccc-mode <active/passive> Set CCC mode\n",
      "     --ftp-ssl-control Require SSL/TLS for FTP login, clear for transfer\n",
      " -G, --get           Put the post data in the URL and use GET\n",
      " -g, --globoff       Disable URL sequences and ranges using {} and []\n",
      " -I, --head          Show document info only\n",
      " -H, --header <header/@file> Pass custom header(s) to server\n",
      " -h, --help          This help text\n",
      "     --hostpubmd5 <md5> Acceptable MD5 hash of the host public key\n",
      " -0, --http1.0       Use HTTP 1.0\n",
      "     --http1.1       Use HTTP 1.1\n",
      "     --http2         Use HTTP 2\n",
      "     --http2-prior-knowledge Use HTTP 2 without HTTP/1.1 Upgrade\n",
      "     --ignore-content-length Ignore the size of the remote resource\n",
      " -i, --include       Include protocol response headers in the output\n",
      " -k, --insecure      Allow insecure server connections when using SSL\n",
      "     --interface <name> Use network INTERFACE (or address)\n",
      " -4, --ipv4          Resolve names to IPv4 addresses\n",
      " -6, --ipv6          Resolve names to IPv6 addresses\n",
      " -j, --junk-session-cookies Ignore session cookies read from file\n",
      "     --keepalive-time <seconds> Interval time for keepalive probes\n",
      "     --key <key>     Private key file name\n",
      "     --key-type <type> Private key file type (DER/PEM/ENG)\n",
      "     --krb <level>   Enable Kerberos with security <level>\n",
      "     --libcurl <file> Dump libcurl equivalent code of this command line\n",
      "     --limit-rate <speed> Limit transfer speed to RATE\n",
      " -l, --list-only     List only mode\n",
      "     --local-port <num/range> Force use of RANGE for local port numbers\n",
      " -L, --location      Follow redirects\n",
      "     --location-trusted Like --location, and send auth to other hosts\n",
      "     --login-options <options> Server login options\n",
      "     --mail-auth <address> Originator address of the original email\n",
      "     --mail-from <address> Mail from this address\n",
      "     --mail-rcpt <address> Mail from this address\n",
      " -M, --manual        Display the full manual\n",
      "     --max-filesize <bytes> Maximum file size to download\n",
      "     --max-redirs <num> Maximum number of redirects allowed\n",
      " -m, --max-time <time> Maximum time allowed for the transfer\n",
      "     --metalink      Process given URLs as metalink XML file\n",
      "     --negotiate     Use HTTP Negotiate (SPNEGO) authentication\n",
      " -n, --netrc         Must read .netrc for user name and password\n",
      "     --netrc-file <filename> Specify FILE for netrc\n",
      "     --netrc-optional Use either .netrc or URL\n",
      " -:, --next          Make next URL use its separate set of options\n",
      "     --no-alpn       Disable the ALPN TLS extension\n",
      " -N, --no-buffer     Disable buffering of the output stream\n",
      "     --no-keepalive  Disable TCP keepalive on the connection\n",
      "     --no-npn        Disable the NPN TLS extension\n",
      "     --no-sessionid  Disable SSL session-ID reusing\n",
      "     --noproxy <no-proxy-list> List of hosts which do not use proxy\n",
      "     --ntlm          Use HTTP NTLM authentication\n",
      "     --ntlm-wb       Use HTTP NTLM authentication with winbind\n",
      "     --oauth2-bearer <token> OAuth 2 Bearer Token\n",
      " -o, --output <file> Write to file instead of stdout\n",
      "     --pass <phrase> Pass phrase for the private key\n",
      "     --path-as-is    Do not squash .. sequences in URL path\n",
      "     --pinnedpubkey <hashes> FILE/HASHES Public key to verify peer against\n",
      "     --post301       Do not switch to GET after following a 301\n",
      "     --post302       Do not switch to GET after following a 302\n",
      "     --post303       Do not switch to GET after following a 303\n",
      "     --preproxy [protocol://]host[:port] Use this proxy first\n",
      " -#, --progress-bar  Display transfer progress as a bar\n",
      "     --proto <protocols> Enable/disable PROTOCOLS\n",
      "     --proto-default <protocol> Use PROTOCOL for any URL missing a scheme\n",
      "     --proto-redir <protocols> Enable/disable PROTOCOLS on redirect\n",
      " -x, --proxy [protocol://]host[:port] Use this proxy\n",
      "     --proxy-anyauth Pick any proxy authentication method\n",
      "     --proxy-basic   Use Basic authentication on the proxy\n",
      "     --proxy-cacert <file> CA certificate to verify peer against for proxy\n",
      "     --proxy-capath <dir> CA directory to verify peer against for proxy\n",
      "     --proxy-cert <cert[:passwd]> Set client certificate for proxy\n",
      "     --proxy-cert-type <type> Client certificate type for HTTS proxy\n",
      "     --proxy-ciphers <list> SSL ciphers to use for proxy\n",
      "     --proxy-crlfile <file> Set a CRL list for proxy\n",
      "     --proxy-digest  Use Digest authentication on the proxy\n",
      "     --proxy-header <header/@file> Pass custom header(s) to proxy\n",
      "     --proxy-insecure Do HTTPS proxy connections without verifying the proxy\n",
      "     --proxy-key <key> Private key for HTTPS proxy\n",
      "     --proxy-key-type <type> Private key file type for proxy\n",
      "     --proxy-negotiate Use HTTP Negotiate (SPNEGO) authentication on the proxy\n",
      "     --proxy-ntlm    Use NTLM authentication on the proxy\n",
      "     --proxy-pass <phrase> Pass phrase for the private key for HTTPS proxy\n",
      "     --proxy-service-name <name> SPNEGO proxy service name\n",
      "     --proxy-ssl-allow-beast Allow security flaw for interop for HTTPS proxy\n",
      "     --proxy-tlsauthtype <type> TLS authentication type for HTTPS proxy\n",
      "     --proxy-tlspassword <string> TLS password for HTTPS proxy\n",
      "     --proxy-tlsuser <name> TLS username for HTTPS proxy\n",
      "     --proxy-tlsv1   Use TLSv1 for HTTPS proxy\n",
      " -U, --proxy-user <user:password> Proxy user and password\n",
      "     --proxy1.0 <host[:port]> Use HTTP/1.0 proxy on given port\n",
      " -p, --proxytunnel   Operate through a HTTP proxy tunnel (using CONNECT)\n",
      "     --pubkey <key>  SSH Public key file name\n",
      " -Q, --quote         Send command(s) to server before transfer\n",
      "     --random-file <file> File for reading random data from\n",
      " -r, --range <range> Retrieve only the bytes within RANGE\n",
      "     --raw           Do HTTP \"raw\"; no transfer decoding\n",
      " -e, --referer <URL> Referrer URL\n",
      " -J, --remote-header-name Use the header-provided filename\n",
      " -O, --remote-name   Write output to a file named as the remote file\n",
      "     --remote-name-all Use the remote file name for all URLs\n",
      " -R, --remote-time   Set the remote file's time on the local output\n",
      " -X, --request <command> Specify request command to use\n",
      "     --request-target Specify the target for this request\n",
      "     --resolve <host:port:address> Resolve the host+port to this address\n",
      "     --retry <num>   Retry request if transient problems occur\n",
      "     --retry-connrefused Retry on connection refused (use with --retry)\n",
      "     --retry-delay <seconds> Wait time between retries\n",
      "     --retry-max-time <seconds> Retry only within this period\n",
      "     --sasl-ir       Enable initial response in SASL authentication\n",
      "     --service-name <name> SPNEGO service name\n",
      " -S, --show-error    Show error even when -s is used\n",
      " -s, --silent        Silent mode\n",
      "     --socks4 <host[:port]> SOCKS4 proxy on given host + port\n",
      "     --socks4a <host[:port]> SOCKS4a proxy on given host + port\n",
      "     --socks5 <host[:port]> SOCKS5 proxy on given host + port\n",
      "     --socks5-basic  Enable username/password auth for SOCKS5 proxies\n",
      "     --socks5-gssapi Enable GSS-API auth for SOCKS5 proxies\n",
      "     --socks5-gssapi-nec Compatibility with NEC SOCKS5 server\n",
      "     --socks5-gssapi-service <name> SOCKS5 proxy service name for GSS-API\n",
      "     --socks5-hostname <host[:port]> SOCKS5 proxy, pass host name to proxy\n",
      " -Y, --speed-limit <speed> Stop transfers slower than this\n",
      " -y, --speed-time <seconds> Trigger 'speed-limit' abort after this time\n",
      "     --ssl           Try SSL/TLS\n",
      "     --ssl-allow-beast Allow security flaw to improve interop\n",
      "     --ssl-no-revoke Disable cert revocation checks (WinSSL)\n",
      "     --ssl-reqd      Require SSL/TLS\n",
      " -2, --sslv2         Use SSLv2\n",
      " -3, --sslv3         Use SSLv3\n",
      "     --stderr        Where to redirect stderr\n",
      "     --suppress-connect-headers Suppress proxy CONNECT response headers\n",
      "     --tcp-fastopen  Use TCP Fast Open\n",
      "     --tcp-nodelay   Use the TCP_NODELAY option\n",
      " -t, --telnet-option <opt=val> Set telnet option\n",
      "     --tftp-blksize <value> Set TFTP BLKSIZE option\n",
      "     --tftp-no-options Do not send any TFTP options\n",
      " -z, --time-cond <time> Transfer based on a time condition\n",
      "     --tls-max <VERSION> Use TLSv1.0 or greater\n",
      "     --tlsauthtype <type> TLS authentication type\n",
      "     --tlspassword   TLS password\n",
      "     --tlsuser <name> TLS user name\n",
      " -1, --tlsv1         Use TLSv1.0 or greater\n",
      "     --tlsv1.0       Use TLSv1.0\n",
      "     --tlsv1.1       Use TLSv1.1\n",
      "     --tlsv1.2       Use TLSv1.2\n",
      "     --tlsv1.3       Use TLSv1.3\n",
      "     --tr-encoding   Request compressed transfer encoding\n",
      "     --trace <file>  Write a debug trace to FILE\n",
      "     --trace-ascii <file> Like --trace, but without hex output\n",
      "     --trace-time    Add time stamps to trace/verbose output\n",
      "     --unix-socket <path> Connect through this Unix domain socket\n",
      " -T, --upload-file <file> Transfer local FILE to destination\n",
      "     --url <url>     URL to work with\n",
      " -B, --use-ascii     Use ASCII/text transfer\n",
      " -u, --user <user:password> Server user and password\n",
      " -A, --user-agent <name> Send User-Agent <name> to server\n",
      " -v, --verbose       Make the operation more talkative\n",
      " -V, --version       Show version number and quit\n",
      " -w, --write-out <format> Use output FORMAT after completion\n",
      "     --xattr         Store metadata in extended file attributes\n"
     ]
    }
   ],
   "source": [
    "!curl -h"
   ]
  },
  {
   "cell_type": "code",
   "execution_count": null,
   "metadata": {},
   "outputs": [],
   "source": []
  }
 ],
 "metadata": {
  "kernelspec": {
   "display_name": "Python 3",
   "language": "python",
   "name": "python3"
  },
  "language_info": {
   "codemirror_mode": {
    "name": "ipython",
    "version": 3
   },
   "file_extension": ".py",
   "mimetype": "text/x-python",
   "name": "python",
   "nbconvert_exporter": "python",
   "pygments_lexer": "ipython3",
   "version": "3.8.3"
  }
 },
 "nbformat": 4,
 "nbformat_minor": 4
}
